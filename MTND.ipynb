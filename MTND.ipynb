{
 "cells": [
  {
   "cell_type": "markdown",
   "metadata": {},
   "source": [
    "# MTND--Maquina-de-Turing-Nao-Deterministica-\n",
    "Algoritimo representação de uma Máquina de Turing Não Dterministica (MTND) da matéria de Teoria da COmputação do curso de Engenharia da Computação da UFRB \n",
    "\n",
    "### Discente: Adenilton Morais Arcanjo \n",
    "\n",
    "\n",
    "# Introdução \n",
    "\n",
    "\n",
    "A Máquina de Turing explicitada por Alan Mathison Turing, como um dispositivo lógico capaz de ler, escrever e apagar símbolos binários em uma fita de comprimento ilimitado e dividida por quadros de igual tamanho.  Uma cabeça de leitura/gravação se moveria em qualquer direção ao longo da fita, um quadrado por vez, e uma unidade de controle poderia interpretar uma lista de instruções simples, movendo‐se para a direita ou esquerda. Esse conceito de máquina teve uma importância fundamental no desenvolvimento de áreas de computabilidade, teoria dos autômatos formais e análise de algoritmos(Botelho, 2006).\n",
    "\n",
    "EEste trabalho é pré-requisito como uma atividade avaliativa da matéria de Teoria da Computação do curso de Engenharia da Computação da UFRB. O trabalho consiste na implementação de um algoritimo que simule uma maquina de Turing Não Determinista.\n",
    "\n",
    "# Especificação do trabalho \n",
    "\n",
    "\n",
    "## Descrição\n",
    "Implemente um algoritmo que simule uma Máquina de Turing Não Determinista. A entrada\n",
    "consiste da especificação de uma MTND e de um conjunto de palavras. A saída consiste de uma\n",
    "lista indicando ‘S’ caso a MTND reconheça a palavra em questão e ‘N’ caso contrário.\n",
    "\n",
    "## Obsservações:\n",
    "1. Leitura e escrita na entrada/saída padrão.\n",
    "2. Qualquer divergência na saída com relação ao formato especificado implicará em nota zero.\n",
    "3. A implementação não pode fazer uso de recursão.\n",
    "4. No código fonte, você deve documentar como você gerenciou o não determinismo.\n",
    "5. Critério de reconhecimento: parada em estado final e inexistência de transição.\n",
    "\n",
    "## Entrada\n",
    "Na primeira linha, há uma lista de estados. Na segunda linha, há o alfabeto de entrada. Na terceira\n",
    "linha, há o alfabeto da fita. Na quarta linha, há o símbolo especial que limita a fita à esquerda. Na\n",
    "quinta linha, há o símbolo branco da fita. Na sexta linha, há o número total n de transições. Para\n",
    "cada uma das n linhas seguintes, há uma quíntupla <a, b, c, d, e> onde ‘a’ é o estado de origem, ‘b’\n",
    "é o caractere a ser lido, ‘c’ é o estado de destino, ‘d’ é o símbolo a ser escrito e, por fim, ‘e’ é a\n",
    "direção, imóvel (I), esquerda (E) e direita (D). Em seguida, há um caractere informando o estado\n",
    "inicial. Em seguida, há uma lista de estados finais. Por fim, há uma lista de palavras de teste a ser\n",
    "reconhecida. Os itens da listas serão separados por espaço em branco. A palavra vazia é\n",
    "representada por *.\n",
    "\n",
    "## Saída\n",
    "Seu programa deve imprimir para cada palavra de teste ‘S’ se a MTND reconhece a palavra ou ‘N’\n",
    "caso contrário.\n",
    "\n",
    "## Exemplo\n",
    "\n",
    "![Image](entrada_saida.png)\n"
   ]
  },
  {
   "cell_type": "markdown",
   "metadata": {},
   "source": [
    "# Implementação do código e testes"
   ]
  },
  {
   "cell_type": "markdown",
   "metadata": {},
   "source": [
    "Para a implementação do código foi utilizada a linguagem Python. Inicialmente o algoritmo armazena os dados de entrada em uma forma de quíntupla <a, b, c, d, e>, onde ‘a’ é o estado de origem ‘b’ é o caractere a ser lido, ‘c’ é o estado de destino, ‘d’ é o símbolo a ser escrito e, por fim, ‘e’ é a direção, imóvel (I), esquerda (E) e direita (D).\n",
    "\n",
    "Para que a MT saiba quais os possíveis estados ao qual podem ser feitas as transições, as informações foram colocados em um dicionário de trancisões, no qual a chave corresponde uma Tupla com (‘a’,’b’)  e os valores referentes a chave são <’c’,’d’ ,‘e’> que serão armazenados em uma lista. Para a implementação do código foi utilizada a linguagem Python e a IDE Visual Studio Code \n"
   ]
  },
  {
   "cell_type": "code",
   "execution_count": null,
   "metadata": {},
   "outputs": [],
   "source": [
    "import time\n",
    "estados = input().split() \n",
    "alfabeto_entrada=input().split() \n",
    "alfabeto_fita = input().split()\n",
    "limite_esquerda = input()  \n",
    "simbolo_branco = input() \n",
    "numero_t=int(input()) \n",
    "\n",
    "transicoes=dict()\n",
    "\n",
    "#armazenando os dados no dicionário \n",
    "for i in range(numero_t):\n",
    "    quintupla = input().split() # quintupla que armazenará <a,b,c,d,e>\n",
    "    chave = (quintupla[0], quintupla[1])\n",
    "\n",
    "    if chave not in transicoes:\n",
    "        transicoes[chave]=([[quintupla[2], quintupla[3], quintupla[4]]])\n",
    "    else:\n",
    "        transicoes[chave].append([quintupla[2], quintupla[3], quintupla[4]])\n",
    "        \n",
    "estado_inicial = input()\n",
    "estados_finais = input().split()\n",
    "palavras = input().split()\n",
    "\n",
    "indice_inicial=1"
   ]
  },
  {
   "cell_type": "markdown",
   "metadata": {},
   "source": [
    "Nessa parte do código é verificado se as palavras são aceitas pela MT, ao percorrer a palavra se a chave relacionada a configuração atual estiver no dicionário de transições, é adicionado a uma pilha as configurações do estado atual da máquina, com a fita e a posição do cabeçote alterados, ao armazenar as configurações na pilha, isso garante o não determinismo, no qual todas as possibilidades de caminho são verificadas por uma busca em profundidade, esse processo se repete até a pilha esvaziar ou até a maquina parar, caso ela pare em um estado final a palavra é aceita. "
   ]
  },
  {
   "cell_type": "code",
   "execution_count": null,
   "metadata": {},
   "outputs": [],
   "source": [
    "for palavra in palavras:\n",
    "\n",
    "    #tempo_inicial = time.time()   \n",
    "\n",
    "    fita=list((limite_esquerda+palavra+simbolo_branco))\n",
    "    elemento_pilha=[(estado_inicial, indice_inicial, fita)]\n",
    "    \n",
    "    aceita=False\n",
    "    \n",
    "    while len(elemento_pilha)>0:\n",
    "\n",
    "        p=elemento_pilha.pop()\n",
    "        estado_atual=p[0]\n",
    "        indice_p=p[1]\n",
    "        fita_p=p[2][:]\n",
    "        chave_p=(estado_atual,fita_p[indice_p]) \n",
    "               \n",
    "                       \n",
    "\n",
    "        if chave_p not in transicoes and estado_atual in estados_finais:\n",
    "            aceita=True\n",
    "            break\n",
    "\n",
    "        \n",
    "        if chave_p in transicoes:\n",
    "            \n",
    "            for a in transicoes[(chave_p)]:            \n",
    "                \n",
    "                estado_atual = a[0] \n",
    "                fita_p[indice_p] = a[1]\n",
    "                direcao = a[2]                 \n",
    "                                              \n",
    "                if direcao == 'E':                   \n",
    "                    elemento_pilha.append((estado_atual, indice_p-1, fita_p))                                   \n",
    "\n",
    "                elif direcao == 'D':\n",
    "                   \n",
    "                    if (indice_p+1)==len(fita):\n",
    "                        fita_p.append(simbolo_branco)\n",
    "                    elemento_pilha.append((estado_atual, indice_p+1, fita_p))                  \n",
    "                    \n",
    "\n",
    "                elif direcao == 'I':\n",
    "                    elemento_pilha.append((estado_atual, indice_p, fita_p))       \n",
    "                       \n",
    "    #tempo_final = time.time()     \n",
    "    #tempo_total=tempo_final-tempo_inicial   \n",
    "    \n",
    "    if aceita:\n",
    "        print(\"S\")\n",
    "        #print(tempo_total)\n",
    "    else:\n",
    "        print(\"N\")\n",
    "        #print(tempo_total)"
   ]
  },
  {
   "cell_type": "markdown",
   "metadata": {},
   "source": [
    "# Testes "
   ]
  },
  {
   "cell_type": "markdown",
   "metadata": {},
   "source": [
    "Para a realização dos testes foram utilizadas arquivos de entradas de diferentes maquinas de turing, para a realização dos testes foi utilizado o Terminal powershel, através do comando Get-Content nome_do_arquivo_teste.in | python Nome_do_arquivo_programa.py"
   ]
  },
  {
   "cell_type": "markdown",
   "metadata": {},
   "source": [
    "# Teste de Tempo de execução \n",
    "\n",
    "Para a realização do teste de tempo de execução foi utilizado o automato para {w pertece {a, b} | o número de a’s em w é igual ao de b’s}.\n",
    "\n",
    "#### Automado : \n",
    "<p>\n",
    "0 1 2 3 4<br/> \n",
    "a b<br/> \n",
    "a b x *<br/> \n",
    "< <br/> \n",
    "*<br/> \n",
    "14<br/> \n",
    "0 x 0 * D<br/> \n",
    "0 a 1 * D<br/> \n",
    "0 * 4 * E<br/> \n",
    "0 b 3 * D<br/> \n",
    "1 a 1 a D<br/> \n",
    "1 x 1 x D<br/> \n",
    "1 b 2 x E<br/> \n",
    "2 a 2 a E<br/> \n",
    "2 b 2 b E<br/> \n",
    "2 x 2 x E<br/> \n",
    "2 * 0 * D<br/> \n",
    "3 b 3 b D<br/> \n",
    "3 x 3 x D<br/> \n",
    "3 a 2 x E<br/> \n",
    "0<br/> \n",
    "4<br/> \n",
    "</p>   \n",
    "\n",
    "O teste foi feito com palavras que são aceitas pela máquina, para a realização do teste foram utilizadas 300 palavras com tamanhos que iam acrescentando de 70 em 70, o que gerou palavras de tamanho até aproximadamente 2100 caracteres. Para calcular o tempo  de execução de cada palavra, foi importado a biblioteca time , através do import time, e utilizado a função time.time(),  onde foi armazenado o tempo_total através da diferença do tempo final e do tempo inicial. \n",
    "Para esse teste foi feito uma regressão linear simples, para a realização da regressão foi utilizado sklearn, entre outras bibliotecas\n"
   ]
  },
  {
   "cell_type": "markdown",
   "metadata": {},
   "source": [
    "#Regressão Linear Simples "
   ]
  },
  {
   "cell_type": "code",
   "execution_count": 1,
   "metadata": {},
   "outputs": [],
   "source": [
    "import numpy as np\n",
    "import pandas as pd\n",
    "import matplotlib.pyplot as plt\n",
    "import sys\n"
   ]
  },
  {
   "cell_type": "code",
   "execution_count": 2,
   "metadata": {},
   "outputs": [],
   "source": [
    "dados = pd.read_csv('teste.csv')# carregando os arquivos com os dados relacionados \n",
    "#ao tamanho da palavra e o tempo de execução "
   ]
  },
  {
   "cell_type": "code",
   "execution_count": 3,
   "metadata": {},
   "outputs": [
    {
     "data": {
      "text/html": [
       "<div>\n",
       "<style scoped>\n",
       "    .dataframe tbody tr th:only-of-type {\n",
       "        vertical-align: middle;\n",
       "    }\n",
       "\n",
       "    .dataframe tbody tr th {\n",
       "        vertical-align: top;\n",
       "    }\n",
       "\n",
       "    .dataframe thead th {\n",
       "        text-align: right;\n",
       "    }\n",
       "</style>\n",
       "<table border=\"1\" class=\"dataframe\">\n",
       "  <thead>\n",
       "    <tr style=\"text-align: right;\">\n",
       "      <th></th>\n",
       "      <th>X</th>\n",
       "      <th>Y</th>\n",
       "    </tr>\n",
       "  </thead>\n",
       "  <tbody>\n",
       "    <tr>\n",
       "      <th>0</th>\n",
       "      <td>70</td>\n",
       "      <td>0.003510</td>\n",
       "    </tr>\n",
       "    <tr>\n",
       "      <th>1</th>\n",
       "      <td>140</td>\n",
       "      <td>0.000000</td>\n",
       "    </tr>\n",
       "    <tr>\n",
       "      <th>2</th>\n",
       "      <td>210</td>\n",
       "      <td>0.000000</td>\n",
       "    </tr>\n",
       "    <tr>\n",
       "      <th>3</th>\n",
       "      <td>280</td>\n",
       "      <td>0.025327</td>\n",
       "    </tr>\n",
       "    <tr>\n",
       "      <th>4</th>\n",
       "      <td>350</td>\n",
       "      <td>0.014959</td>\n",
       "    </tr>\n",
       "  </tbody>\n",
       "</table>\n",
       "</div>"
      ],
      "text/plain": [
       "     X         Y\n",
       "0   70  0.003510\n",
       "1  140  0.000000\n",
       "2  210  0.000000\n",
       "3  280  0.025327\n",
       "4  350  0.014959"
      ]
     },
     "execution_count": 3,
     "metadata": {},
     "output_type": "execute_result"
    }
   ],
   "source": [
    "dados.head()# Imprimir os 5 primeiros dados do arquivo "
   ]
  },
  {
   "cell_type": "code",
   "execution_count": 11,
   "metadata": {},
   "outputs": [],
   "source": [
    "# armazenando os dados em suas respectivas variavés \n",
    "# x corresponde ao tamanho da palavra \n",
    "# y o tempo de execução de cada palavra \n",
    "X = dados['X'].values  \n",
    "Y = dados['Y'].values"
   ]
  },
  {
   "cell_type": "code",
   "execution_count": 12,
   "metadata": {},
   "outputs": [
    {
     "data": {
      "image/png": "[encoded data removed]",
      "text/plain": [
       "<Figure size 432x288 with 1 Axes>"
      ]
     },
     "metadata": {
      "needs_background": "light"
     },
     "output_type": "display_data"
    }
   ],
   "source": [
    "#imprimindo o grafico com os valores dos dados \n",
    "plt.scatter(X,Y,label='Y(X)');\n",
    "plt.xlabel('X- Tempo de execução');\n",
    "plt.ylabel('Y- Tamamho das palavras');\n",
    "plt.legend();"
   ]
  },
  {
   "cell_type": "markdown",
   "metadata": {},
   "source": [
    "Tipo da reta, onde m é o coeficiente angula e o c linear\n",
    "![imagem da equeção da reta de regressão](attachment:image.png)"
   ]
  },
  {
   "cell_type": "code",
   "execution_count": 13,
   "metadata": {},
   "outputs": [],
   "source": [
    "from sklearn.linear_model import LinearRegression \n",
    "\n",
    "modelo = LinearRegression()\n"
   ]
  },
  {
   "cell_type": "code",
   "execution_count": 14,
   "metadata": {},
   "outputs": [],
   "source": [
    "X = X.reshape(-1, 1) #mudando o formato da para varias linhas e uma coluna "
   ]
  },
  {
   "cell_type": "code",
   "execution_count": 15,
   "metadata": {},
   "outputs": [
    {
     "data": {
      "text/plain": [
       "LinearRegression()"
      ]
     },
     "execution_count": 15,
     "metadata": {},
     "output_type": "execute_result"
    }
   ],
   "source": [
    "modelo.fit(X,Y) #achar o melhor dos valores dos coeficientes"
   ]
  },
  {
   "cell_type": "code",
   "execution_count": 16,
   "metadata": {},
   "outputs": [],
   "source": [
    "acuracia = modelo.score(X, Y) # saber o quão bem ajustou os pontos "
   ]
  },
  {
   "cell_type": "code",
   "execution_count": 17,
   "metadata": {},
   "outputs": [
    {
     "name": "stdout",
     "output_type": "stream",
     "text": [
      "Acuracia = 0.90\n"
     ]
    }
   ],
   "source": [
    "print(\"Acuracia = {:0.2f}\".format(acuracia))"
   ]
  },
  {
   "cell_type": "code",
   "execution_count": 21,
   "metadata": {},
   "outputs": [],
   "source": [
    "coef_angular = modelo.coef_[0] #armazenando o coeficiente angular na memoria "
   ]
  },
  {
   "cell_type": "code",
   "execution_count": 22,
   "metadata": {},
   "outputs": [],
   "source": [
    "coef_linear = modelo.intercept_ #armazenando o coeficiente linear na memoria "
   ]
  },
  {
   "cell_type": "code",
   "execution_count": 23,
   "metadata": {},
   "outputs": [],
   "source": [
    "reta = coef_angular*X+coef_linear"
   ]
  },
  {
   "cell_type": "code",
   "execution_count": 24,
   "metadata": {},
   "outputs": [
    {
     "data": {
      "image/png": "[encoded data removed]",
      "text/plain": [
       "<Figure size 432x288 with 1 Axes>"
      ]
     },
     "metadata": {
      "needs_background": "light"
     },
     "output_type": "display_data"
    }
   ],
   "source": [
    "plt.scatter(X,Y,label='');\n",
    "plt.plot(X,reta,label='Ajuste linear',color='red');\n",
    "plt.xlabel('Tamanho Palavra');\n",
    "plt.ylabel('Tempo Execução');\n",
    "plt.legend();"
   ]
  },
  {
   "cell_type": "markdown",
   "metadata": {},
   "source": [
    "com o resultado da regressão linear foi possivél observar que a medida que a palavara aumenta de tamanho o tempo de execução tambem aumenta, podendo haver pequenas variações, isso é devido a quantidade de transições que a maquina irá fazer dependendo do tamanho da palavra, quanto maior o tamanho da palavra, maior será o numeros de verificações."
   ]
  },
  {
   "cell_type": "code",
   "execution_count": null,
   "metadata": {},
   "outputs": [],
   "source": []
  },
  {
   "cell_type": "code",
   "execution_count": null,
   "metadata": {},
   "outputs": [],
   "source": []
  }
 ],
 "metadata": {
  "kernelspec": {
   "display_name": "Python 3",
   "language": "python",
   "name": "python3"
  },
  "language_info": {
   "codemirror_mode": {
    "name": "ipython",
    "version": 3
   },
   "file_extension": ".py",
   "mimetype": "text/x-python",
   "name": "python",
   "nbconvert_exporter": "python",
   "pygments_lexer": "ipython3",
   "version": "3.8.5"
  }
 },
 "nbformat": 4,
 "nbformat_minor": 5
}
